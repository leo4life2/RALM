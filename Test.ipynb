{
 "cells": [
  {
   "cell_type": "code",
   "execution_count": 1,
   "id": "7b38d4c2",
   "metadata": {
    "ExecuteTime": {
     "end_time": "2023-02-13T04:10:29.235911Z",
     "start_time": "2023-02-13T04:10:27.991476Z"
    }
   },
   "outputs": [],
   "source": [
    "import pandas as pd\n",
    "\n",
    "# Convert CSV of structure title - heading - content tokens into a markdown file\n",
    "\n",
    "df = pd.read_csv('data/olympics_sections_text.csv')\n",
    "df = df.set_index([\"title\", \"heading\"])"
   ]
  },
  {
   "cell_type": "code",
   "execution_count": 17,
   "id": "7e9b149a",
   "metadata": {
    "ExecuteTime": {
     "end_time": "2023-02-13T04:14:33.686251Z",
     "start_time": "2023-02-13T04:14:33.659839Z"
    }
   },
   "outputs": [
    {
     "data": {
      "text/html": [
       "<div>\n",
       "<style scoped>\n",
       "    .dataframe tbody tr th:only-of-type {\n",
       "        vertical-align: middle;\n",
       "    }\n",
       "\n",
       "    .dataframe tbody tr th {\n",
       "        vertical-align: top;\n",
       "    }\n",
       "\n",
       "    .dataframe thead th {\n",
       "        text-align: right;\n",
       "    }\n",
       "</style>\n",
       "<table border=\"1\" class=\"dataframe\">\n",
       "  <thead>\n",
       "    <tr style=\"text-align: right;\">\n",
       "      <th></th>\n",
       "      <th>content</th>\n",
       "      <th>tokens</th>\n",
       "    </tr>\n",
       "    <tr>\n",
       "      <th>title</th>\n",
       "      <th></th>\n",
       "      <th></th>\n",
       "    </tr>\n",
       "  </thead>\n",
       "  <tbody>\n",
       "    <tr>\n",
       "      <th>2020 AFC Women's Olympic Qualifying Tournament</th>\n",
       "      <td>11</td>\n",
       "      <td>11</td>\n",
       "    </tr>\n",
       "    <tr>\n",
       "      <th>2020 African Boxing Olympic Qualification Tournament</th>\n",
       "      <td>1</td>\n",
       "      <td>1</td>\n",
       "    </tr>\n",
       "    <tr>\n",
       "      <th>2020 African Taekwondo Olympic Qualification Tournament</th>\n",
       "      <td>1</td>\n",
       "      <td>1</td>\n",
       "    </tr>\n",
       "    <tr>\n",
       "      <th>2020 Asia &amp; Oceania Boxing Olympic Qualification Tournament</th>\n",
       "      <td>1</td>\n",
       "      <td>1</td>\n",
       "    </tr>\n",
       "    <tr>\n",
       "      <th>2020 CAF Women's Olympic Qualifying Tournament</th>\n",
       "      <td>9</td>\n",
       "      <td>9</td>\n",
       "    </tr>\n",
       "    <tr>\n",
       "      <th>...</th>\n",
       "      <td>...</td>\n",
       "      <td>...</td>\n",
       "    </tr>\n",
       "    <tr>\n",
       "      <th>Wrestling at the 2020 Summer Olympics – Women's freestyle 76 kg</th>\n",
       "      <td>1</td>\n",
       "      <td>1</td>\n",
       "    </tr>\n",
       "    <tr>\n",
       "      <th>Yemen at the 2020 Summer Olympics</th>\n",
       "      <td>3</td>\n",
       "      <td>3</td>\n",
       "    </tr>\n",
       "    <tr>\n",
       "      <th>Youth Olympic Games</th>\n",
       "      <td>9</td>\n",
       "      <td>9</td>\n",
       "    </tr>\n",
       "    <tr>\n",
       "      <th>Zambia at the 2020 Summer Olympics</th>\n",
       "      <td>6</td>\n",
       "      <td>6</td>\n",
       "    </tr>\n",
       "    <tr>\n",
       "      <th>Zimbabwe at the 2020 Summer Olympics</th>\n",
       "      <td>4</td>\n",
       "      <td>4</td>\n",
       "    </tr>\n",
       "  </tbody>\n",
       "</table>\n",
       "<p>735 rows × 2 columns</p>\n",
       "</div>"
      ],
      "text/plain": [
       "                                                    content  tokens\n",
       "title                                                              \n",
       "2020 AFC Women's Olympic Qualifying Tournament           11      11\n",
       "2020 African Boxing Olympic Qualification Tourn...        1       1\n",
       "2020 African Taekwondo Olympic Qualification To...        1       1\n",
       "2020 Asia & Oceania Boxing Olympic Qualificatio...        1       1\n",
       "2020 CAF Women's Olympic Qualifying Tournament            9       9\n",
       "...                                                     ...     ...\n",
       "Wrestling at the 2020 Summer Olympics – Women's...        1       1\n",
       "Yemen at the 2020 Summer Olympics                         3       3\n",
       "Youth Olympic Games                                       9       9\n",
       "Zambia at the 2020 Summer Olympics                        6       6\n",
       "Zimbabwe at the 2020 Summer Olympics                      4       4\n",
       "\n",
       "[735 rows x 2 columns]"
      ]
     },
     "execution_count": 17,
     "metadata": {},
     "output_type": "execute_result"
    }
   ],
   "source": [
    "grouped = df.groupby(\"title\")\n",
    "grouped.count()"
   ]
  },
  {
   "cell_type": "code",
   "execution_count": 22,
   "id": "47b969ae",
   "metadata": {
    "ExecuteTime": {
     "end_time": "2023-02-13T04:18:15.257218Z",
     "start_time": "2023-02-13T04:18:15.249249Z"
    }
   },
   "outputs": [
    {
     "name": "stdout",
     "output_type": "stream",
     "text": [
      "The 2020 Summer Olympics (Japanese: 2020年夏季オリンピック, Hepburn: Nisen Nijū-nen Kaki Orinpikku), officially the Games of the XXXII Olympiad (第三十二回オリンピック競技大会, Dai Sanjūni-kai Orinpikku Kyōgi Taikai) and also known as Tokyo 2020 (東京2020, Tōkyō Nii Zero Nii Zero), was an international multi-sport event held from 23 July to 8 August 2021 in Tokyo, Japan, with some preliminary events that began on 21 July.\n",
      "Tokyo was selected as the host city during the 125th IOC Session in Buenos Aires, Argentina, on 7 September 2013. The Games were originally scheduled to take place from 24 July to 9 August 2020, but due to the global COVID-19 pandemic, on 24 March 2020, the event was postponed to 2021, the first such instance in the history of the Olympic Games (previous games had been cancelled but not rescheduled). However, the event retained the Tokyo 2020 branding for marketing purpose. It was largely held behind closed doors with no public spectators permitted due to the declaration of a state of emergency in the Greater Tokyo Area in response to the pandemic, the first and so far only Olympic Games to be held without official spectators. The Games were the most expensive ever, with total spending of over $20 billion.The 2020 Games were the fourth Olympic Games to be held in Japan, following the 1964 Summer Olympics (Tokyo), 1972 Winter Olympics (Sapporo), and 1998 Winter Olympics (Nagano). Tokyo became the first city in Asia to hold the Summer Games twice. The 2020 Games were the second of three consecutive Olympics to be held in East Asia, following the 2018 Winter Olympics in Pyeongchang, South Korea and preceding the 2022 Winter Olympics in Beijing, China. Due to the one-year postponement, Tokyo 2020 was the only Olympic Games to have been held in an odd-numbered year and the first Summer Olympics since the 1900 Games to be held in a non-leap year.\n",
      "New events were introduced in existing sports for 2020, including 3x3 basketball, freestyle BMX and mixed gender team events in a number of existing sports, as well as the return of madison cycling for men and an introduction of the same event for women. New IOC policies also allowed the host organizing committee to add new sports to the Olympic program for just one Games. The disciplines added by the Japanese Olympic Committee were baseball and softball, karate, sport climbing, surfing and skateboarding, the last four of which made their Olympic debuts, and the last three of which will remain on the Olympic program.The United States topped the medal count by both total golds (39) and total medals (113), with China finishing second by both respects (38 and 89). Host nation Japan finished third, setting a record for the most gold medals and total medals ever won by their delegation at an Olympic Games with 27 and 58. Great Britain finished fourth, with a total of 22 gold and 64 medals. The Russian delegation competing as the ROC finished fifth with 20 gold medals and third in the overall medal count, with 71 medals. Bermuda, the Philippines and Qatar won their first-ever Olympic gold medals. Burkina Faso, San Marino and Turkmenistan won their first-ever Olympic medals.\n",
      "\n",
      "The International Olympic Committee (IOC) voted to select the host city of the 2020 Summer Olympics on 7 September 2013, at the 125th IOC Session in Buenos Aires, Argentina, using an exhaustive ballot system. None of the candidate cities won more than 50% of the votes in the first round; Madrid and Istanbul were tied for second place, so a runoff vote was held to determine which of the two cities would be eliminated. The final vote was a head-to-head contest between Tokyo and Istanbul. Tokyo was selected by 60 votes to 36, gaining at least the 49 votes required for a majority.\n",
      "\n",
      "In January 2020, concerns were raised about the potential impact of the COVID-19 pandemic on athletes and visitors to the Olympic Games. Tokyo organizers and the International Olympic Committee insisted they were monitoring the spread of the disease to minimize its effects on preparations for the Olympics. The IOC stated that in 2020, their Japanese partners and Prime Minister Shinzo Abe \"made it very clear that Japan could not manage a postponement beyond next summer [2021] at the latest\". Unlike the case for Zika virus during the 2016 Summer Olympics in Rio de Janeiro, SARS-CoV-2 can be transmitted directly between humans, posing tougher challenges for the organizers to counteract the infectious disease and host a safe and secure event. Also unlike the case for H1N1 \"swine flu\" during the 2010 Winter Olympics in Vancouver, COVID-19 has a higher fatality rate, and there was no effective vaccine until December 2020. In a February 2020 interview, Conservative London mayoral candidate Shaun Bailey argued that London would be able to host the Olympic Games at the former 2012 Olympic venues should the Games need to be moved because of the COVID-19 pandemic. Tokyo Governor Yuriko Koike criticized Bailey's comment as inappropriate. In early 2021, officials in the U.S. state of Florida offered to host the delayed Games in their state, while John Coates, the IOC vice president in charge of the Tokyo Olympics, said the Games would open even if the city and other parts of Japan were under a state of emergency because of COVID-19.Estimates by the National Institute of Infectious Diseases and Kyoto University predicted that states of emergency might be required during the Games. The reports published at the Ministry of Health experts' panel also showed new patients increasing to 10,000 if the Games were to allow spectators.\n",
      "\n",
      "Concerns about the pandemic began to affect qualifying events in early 2020. Some that were due to take place in February were moved to alternative locations to address concerns about travelling to the affected areas, particularly China. For example, the women's basketball qualification was played in Belgrade, Serbia, instead of Foshan, China. The Asia & Oceania boxing qualification tournament, which was originally planned to be held from 3–14 February in Wuhan, China (the location of the original outbreak of the COVID-19 pandemic), instead took place in Amman, Jordan, at the beginning of March. The third round of the women's football qualification tournament was also affected, as the group matches formerly scheduled to be held in China were moved to Australia. The European boxing qualification began on 14 March 2020 in London, United Kingdom, but was suspended after two days of competition before being rescheduled for April 2021. It eventually resumed in June 2021 but was moved to Paris, France, because of renewed concerns over travel to the United Kingdom. Other qualifying events that were due to take place in March to June 2020 began to be postponed until later in the year and mid-2021 as part of a wider suspension of international sporting competitions in response to the pandemic. A multitude of Olympic sports were affected, including archery, baseball, cycling, handball, judo, rowing, sailing, volleyball, and water polo.\n",
      "\n",
      "Mandatory doping tests were being severely restricted by the COVID-19 pandemic in early 2020. European anti-doping organizations raised concerns that blood and urine tests could not be performed and that mobilizing the staff necessary to do so before the end of the pandemic would be a health risk. Despite the need for extensive testing to take place in advance of the Games, the World Anti-Doping Agency (WADA) stated that public health and safety were their topmost priorities. The Chinese anti-doping agency temporarily ceased testing on 3 February 2020, with a planned resumption of phased testing towards the end of the month, and the anti-doping organizations in the United States, France, Great Britain, and Germany had reduced their testing activities by the end of March.\n",
      "\n",
      "The Tokyo Organizing Committee of the Olympic and Paralympic Games (TOCOG) released a statement on 2 March 2020, confirming that preparations for the upcoming Tokyo Olympics were \"continuing as planned\". On 23 March, both Canada and Australia indicated that they would withdraw from the Games if they were not postponed by a year. On the same day, Japanese prime minister Shinzo Abe stated he would support a proposed postponement, citing that ensuring athlete safety was \"paramount,\" and veteran IOC member and former vice president Dick Pound said that he expected the Games to be postponed.On 24 March 2020, 122 days to go for the planned start, the IOC, TOCOG and prime minister Abe released a joint statement announcing that the 2020 Summer Olympics and Paralympics would be rescheduled to a date \"beyond 2020 but not later than summer 2021\". They stated that the Games could \"stand as a beacon of hope to the world during these troubled times\", and that the Olympic flame could become \"the light at the end of the tunnel in which the world finds itself at present\". Prime Minister Abe stated that IOC president Thomas Bach responded \"with 100% agreement\" to his proposal to delay the Games. For continuity and marketing purposes, it was agreed that the Games would still be branded as Tokyo 2020 despite the change in schedule.On 30 March 2020, the IOC and TOCOG announced that they had reached an agreement on the new dates for the 2020 Summer Olympics, which would now begin with the opening ceremony on 23 July 2021 and end with the closing ceremony on 8 August 2021, still to be held in Tokyo. The subsequent Winter Olympics in Beijing are scheduled to begin on 4 February 2022, less than six months later. Shortly before the postponement was confirmed, the IOC and Tokyo 2020 organizers formed a task force named \"Here We Go\" with the remit to address any issues arising from postponing the Games, such as sponsorship and accommodation. The organizers confirmed that all athletes who had already qualified for Tokyo 2020 would keep their qualification slots.\n",
      "\n",
      "Health experts expressed concern in April 2020 that the Games might have to be cancelled if the pandemic should persist. In an interview, the then president of TOCOG and former Japanese prime minister, Yoshirō Mori, asserted that the Games would be \"scrapped\" if they could not go ahead in 2021. On 29 April 2020, Prime Minister Abe stated that the Games \"must be held in a way that shows the world has won its battle against the coronavirus pandemic\". Thomas Bach acknowledged in an interview on 20 May 2020, that the job of reorganizing the Tokyo Games was \"a mammoth task\" and also admitted that the event would have to be cancelled altogether if it could not take place in the summer of 2021. However, both Mori and Bach expressed optimism about the Games going ahead.A member of the Japanese COVID-19 Advisory Committee on the basic action policy co-authored a British Medical Journal editorial, which stated, \"holding Tokyo 2020 for domestic political and economic purposes—ignoring scientific and moral imperatives—is contradictory to Japan's commitment to global health and human security\".On 21 January 2021, multiple sources reported that the Japanese government had \"privately concluded\" that the Games would have to be cancelled. The government dismissed the claims, stating that the reports were \"categorically untrue\". The new Japanese prime minister Yoshihide Suga confirmed on 19 February that the G7 had given unanimous support for the postponed Games to go ahead as scheduled. It was reported in April 2021, just three months before the start of the Games, that there was still the option to cancel the Tokyo Olympics with the country having vaccinated less than 1% of its population, with tens of thousands of volunteers expected to take part and athletes not being required to quarantine after arriving in Japan.Public support for the Games in Japan decreased significantly amid a 2021 surge in COVID-19 cases in the country. Multiple organizations of medical professionals voiced oppositions to the Games, while an opinion poll in April 2021 saw 40% of participants support the cancellation of the Games, and 33% support a second postponement. In May 2021, 83% of those polled supported the cancellation or postponement of the Games. The Tokyo Medical Practitioners Association called for the cancellation, stating that hospitals in Tokyo \"have their hands full and have almost no spare capacity\" in an open letter to the prime minister. At least nine out of 47 elected governors supported the cancellation of the Games. Nearly 37% of Japanese companies surveyed supported the cancellation of the Games, and 32% supported postponement.Kenji Utsunomiya, who had previously run for Governor of Tokyo, collected more than 351,000 signatures on a petition calling for the organisers to \"prioritise life\" over the Olympics. Japanese writers Jiro Akagawa and Fuminori Nakamura also called for the Games to be postponed or cancelled.On 26 May 2021, the Asahi Shimbun newspaper, which was a local sponsor of the Games, published an editorial calling for Prime Minister Suga to \"calmly and objectively assess the situation and decide on the cancellation of the event this summer.\" On 4 June it was reported that Japanese sponsors proposed to the organisers for \"the Games to be postponed for several months,\" citing a comment by a corporate sponsor senior executive: \"It just makes much, much more sense from our perspective to hold the Games when there are more vaccinated people, the weather is cooler and maybe public opposition is lower.\"In July 2021, it was announced that all events in Tokyo were to be held behind closed doors with no spectators due to a new state of emergency. A poll by the Asahi Shimbun found that 55% of those surveyed supported the cancellation of the Olympics, and 68% felt that organisers would not be able to suitably control COVID-19 at the Games. The decision was also detrimental to local sponsors, which had planned in-person presences to promote their products during the Games; an executive of official sponsor Toyota stated that the company had pulled a television advertising campaign it had planned for the Games in Japan, citing that the Olympics were \"becoming an event that has not gained the public's understanding.\"Had the games been cancelled, it would have been the first time since World War II that an Olympic event had been called off and the first games to be scrapped due to circumstances unrelated to war. A complete cancellation would have also cost Japan ¥4.52 trillion (US$41.5 billion), based on operating expenses and loss of tourism activity.\n",
      "\n",
      "According to an estimate conducted by professor emeritus Katsuhiro Miyamoto of Kansai University and reported by the NHK in March 2020, the cost of delaying the 2020 Olympics by one year would be 640.8 billion yen (US$5.8 billion), taking maintenance expenditures for the unused facilities into account.The Nomura Research Institute estimated that cancelling the Tokyo Olympics and Paralympics in 2021 would cost around 1.81 trillion yen ($17 billion), less than the economic damages projected if another state of emergency is declared, noting that a decision to hold the games \"should be made based on the impact on infection risks, not from the standpoint of economic loss\".The Tokyo Games were protected through the commercial insurance marketplace Lloyd's of London, by global reinsurers Munich Re and Swiss Re. The IOC takes out around $800 million of insurance for each Summer Olympics, with the total amount of loss insured for the 2020 Games likely to be more than $2 billion. The disruption caused by postponing the Games was covered by the insurance policy, with those likely to make claims for their financial losses including local organizers, sponsors, hospitality firms, and travel providers.Holders of tickets purchased from overseas prior to postponement were entitled to refunds for both Olympic and Paralympic ticket purchases, except for the costs of cancelled hotel bookings. Although about 600,000 Olympic tickets and 300,000 Paralympic tickets were eligible to be refunded, organizers said that they would not release the total costs of the refunds. Reuters quoted industry sources who estimated that the Tokyo Olympics Committee had taken out US$500–800 million in insurance, and that after accounting for costs such as rebooking sporting venues and the Olympic Village, little of that payout would be available to recoup the proceeds of lost and refunded ticket sales. The local organizers are responsible for ticket sales and use them to defray the costs of holding the games; ticket sales were expected to bring in approximately US$800 million, but actual sales were close to zero.\n",
      "\n",
      "Prior to the Tokyo Olympics being held, many Japanese people were negative about hosting the event, but their attitudes had become more positive towards the end of the Games. According to a public opinion poll conducted jointly by the Nippon News Network and the Yomiuri Shimbun newspaper, which targeted Japanese citizens at the end of the Olympics, 38% of respondents said that it was possible to hold the Olympics in a safe manner against COVID-19, while 55% said that it was not possible. However, 64% answered that it was good that the Tokyo Games had gone ahead, while 28% answered that they wished the event had not been held. Of the respondents, 61% were glad the event had been held without spectators and only 12% said that spectators should have been allowed.On 29 July, less than a week into the Games, journalist Masaki Kubota reported his analysis of the Japanese people's perspective on the Olympics, which he believed was greatly influenced by the change in the way the Japanese news media reported on the Games. He pointed out that many Japanese news media had insisted on canceling the Olympics, citing fears that COVID-19 would spread, but once Japanese athletes started winning medals, the media changed their reporting policy and began livening up the Olympics, which had the effect of altering public opinion in Japan.Once the Tokyo Olympics were underway, followed by the Tokyo Paralympics, there was a sharp increase in COVID-19 cases in Japan, especially those caused by the Delta variant. On 26 July, there were 60,157 cases detected in Japan, breaking the record of 44,961 cases recorded on 10 May. On 9 August, one day after the Olympics had ended, daily cases in Japan reached 100,000 for the first time, and new cases continued to increase until the peak on 23 August, when 156,931 cases were recorded.\n",
      "\n",
      "The Tokyo Organizing Committee was originally headed by former Japanese prime minister Yoshirō Mori, but he resigned in February 2021 due to backlash from sexist comments about women in meetings. Seiko Hashimoto was chosen to succeed him. Tamayo Marukawa, Minister for the Tokyo Olympic and Paralympic Games, was responsible for overseeing the preparations on behalf of the Japanese government.The Tokyo Metropolitan Government set aside a fund of ¥400 billion (more than US$3.67 billion) to cover the cost of hosting the Games. The Japanese government was considering easing airspace restrictions to allow an increased slot capacity at both Haneda and Narita airports. A new railway line was planned to link both airports through an expansion of Tokyo Station, cutting travel time from Tokyo Station to Haneda from 30 minutes to 18 minutes, and from Tokyo Station to Narita from 55 minutes to 36 minutes; funded primarily by private investors, the line would cost ¥400 billion. The East Japan Railway Company (JR East) was also planning a new route near Tamachi to Haneda Airport.There were plans to fund the accelerated completion of the Central Circular Route, Tokyo Gaikan Expressway, and Ken-Ō Expressway, and the refurbishment of other major expressways in the area. The Yurikamome automated transit line was also to be extended from its existing terminal at Toyosu Station to a new terminal at Kachidoki Station, passing the site of the Olympic Village, although the line was not expected to have adequate capacity to serve major events in the Odaiba area on its own.In April 2018, the Tokyo Organizing Committee signed a partnership with the International Labour Organization to ensure decent work in the preparation of and during the 2020 Olympic Games.In June 2020, the chief executive of the Organizing Committee, Toshirō Mutō, stated that the committee was exploring options for streamlining the Games to achieve cost savings. On 25 September, the IOC and Tokyo Organizing Committee agreed to a suite of measures to simplify the Games' logistics, including a cut to non-athlete staff, use of online meetings, and streamlined transport, among others. The committee also outlined areas it would be exploring in order to maintain the health and safety of all participants.\n",
      "\n"
     ]
    }
   ],
   "source": [
    "for index, row in df[:10].iterrows():\n",
    "    print(row['content'])\n",
    "    print()"
   ]
  },
  {
   "cell_type": "code",
   "execution_count": null,
   "id": "cc4fb28d",
   "metadata": {},
   "outputs": [],
   "source": []
  }
 ],
 "metadata": {
  "kernelspec": {
   "display_name": "Python 3 (ipykernel)",
   "language": "python",
   "name": "python3"
  },
  "language_info": {
   "codemirror_mode": {
    "name": "ipython",
    "version": 3
   },
   "file_extension": ".py",
   "mimetype": "text/x-python",
   "name": "python",
   "nbconvert_exporter": "python",
   "pygments_lexer": "ipython3",
   "version": "3.9.7"
  },
  "toc": {
   "base_numbering": 1,
   "nav_menu": {},
   "number_sections": true,
   "sideBar": true,
   "skip_h1_title": false,
   "title_cell": "Table of Contents",
   "title_sidebar": "Contents",
   "toc_cell": false,
   "toc_position": {},
   "toc_section_display": true,
   "toc_window_display": false
  },
  "varInspector": {
   "cols": {
    "lenName": 16,
    "lenType": 16,
    "lenVar": 40
   },
   "kernels_config": {
    "python": {
     "delete_cmd_postfix": "",
     "delete_cmd_prefix": "del ",
     "library": "var_list.py",
     "varRefreshCmd": "print(var_dic_list())"
    },
    "r": {
     "delete_cmd_postfix": ") ",
     "delete_cmd_prefix": "rm(",
     "library": "var_list.r",
     "varRefreshCmd": "cat(var_dic_list()) "
    }
   },
   "types_to_exclude": [
    "module",
    "function",
    "builtin_function_or_method",
    "instance",
    "_Feature"
   ],
   "window_display": false
  }
 },
 "nbformat": 4,
 "nbformat_minor": 5
}
